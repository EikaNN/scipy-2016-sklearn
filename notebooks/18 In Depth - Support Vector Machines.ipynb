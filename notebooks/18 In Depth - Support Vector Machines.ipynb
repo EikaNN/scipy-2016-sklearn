{
 "cells": [
  {
   "cell_type": "code",
   "execution_count": 1,
   "metadata": {
    "collapsed": false
   },
   "outputs": [
    {
     "name": "stdout",
     "output_type": "stream",
     "text": [
      "Andreas Mueller, Kyle Kastner, Sebastian Raschka \n",
      "last updated: 2017-04-12 \n",
      "\n",
      "CPython 3.6.1\n",
      "IPython 5.3.0\n",
      "\n",
      "numpy 1.12.1\n",
      "scipy 0.19.0\n",
      "matplotlib 2.0.0\n",
      "sklearn 0.18.1\n"
     ]
    }
   ],
   "source": [
    "%load_ext watermark\n",
    "%watermark  -d -u -a 'Andreas Mueller, Kyle Kastner, Sebastian Raschka' -v -p numpy,scipy,matplotlib,sklearn"
   ]
  },
  {
   "cell_type": "code",
   "execution_count": 2,
   "metadata": {
    "collapsed": false
   },
   "outputs": [],
   "source": [
    "%matplotlib inline\n",
    "import numpy as np\n",
    "import matplotlib.pyplot as plt"
   ]
  },
  {
   "cell_type": "markdown",
   "metadata": {},
   "source": [
    "# SciPy 2016 Scikit-learn Tutorial"
   ]
  },
  {
   "cell_type": "markdown",
   "metadata": {},
   "source": [
    "# In Depth -  Support Vector Machines"
   ]
  },
  {
   "cell_type": "markdown",
   "metadata": {},
   "source": [
    "SVM stands for \"support vector machines\". They are efficient and easy to use estimators.\n",
    "They come in two kinds: SVCs, Support Vector Classifiers, for classification problems, and SVRs, Support Vector Regressors, for regression problems."
   ]
  },
  {
   "cell_type": "markdown",
   "metadata": {},
   "source": [
    "## Linear SVMs"
   ]
  },
  {
   "cell_type": "markdown",
   "metadata": {},
   "source": [
    "The SVM module contains LinearSVC, which we already discussed briefly in the section on linear models.\n",
    "Using ``SVC(kernel=\"linear\")`` will also yield a linear predictor that is only different in minor technical aspects."
   ]
  },
  {
   "cell_type": "markdown",
   "metadata": {},
   "source": [
    "## Kernel SVMs\n",
    "The real power of SVMs lies in using kernels, which allow for non-linear decision boundaries. A kernel defines a similarity measure between data points. The most common are:\n",
    "\n",
    "- **linear** will give linear decision frontiers. It is the most computationally efficient approach and the one that requires the least amount of data.\n",
    "\n",
    "- **poly** will give decision frontiers that are polynomial. The order of this polynomial is given by the 'order' argument.\n",
    "\n",
    "- **rbf** uses 'radial basis functions' centered at each support vector to assemble a decision frontier. The size of the RBFs ultimately controls the smoothness of the decision frontier. RBFs are the most flexible approach, but also the one that will require the largest amount of data.\n",
    "\n",
    "Predictions in a kernel-SVM are made using the formular\n",
    "\n",
    "$$\n",
    "\\hat{y} = \\text{sign}(\\alpha_0 + \\sum_{j}\\alpha_j y_j k(\\mathbf{x^{(j)}}, \\mathbf{x}))\n",
    "$$\n",
    "\n",
    "where $\\mathbf{x}^{(j)}$ are training samples, $\\mathbf{y}^{(j)}$ the corresponding labels, $\\mathbf{x}$ is a test-sample to predict on, $k$ is the kernel, and $\\alpha$ are learned parameters.\n",
    "\n",
    "What this says is \"if $\\mathbf{x}$ is similar to $\\mathbf{x}^{(j)}$ then they probably have the same label\", where the importance of each $\\mathbf{x}^{(j)}$ for this decision is learned. [Or something much less intuitive about an infinite dimensional Hilbert-space]\n",
    "\n",
    "Often only few samples have non-zero $\\alpha$, these are called the \"support vectors\" from which SVMs get their name.\n",
    "These are the most discriminant samples.\n",
    "\n",
    "The most important parameter of the SVM is the regularization parameter $C$, which bounds the influence of each individual sample:\n",
    "\n",
    "- Low C values: many support vectors... Decision frontier = mean(class A) - mean(class B)\n",
    "- High C values: small number of support vectors: Decision frontier fully driven by most discriminant samples\n",
    "\n"
   ]
  },
  {
   "cell_type": "markdown",
   "metadata": {},
   "source": [
    "The other important parameters are those of the kernel. Let's look at the RBF kernel in more detail:\n",
    "\n",
    "$$k(\\mathbf{x}, \\mathbf{x'}) = \\exp(-\\gamma ||\\mathbf{x} - \\mathbf{x'}||^2)$$"
   ]
  },
  {
   "cell_type": "code",
   "execution_count": 3,
   "metadata": {
    "collapsed": false
   },
   "outputs": [
    {
     "data": {
      "image/png": "[encoded data removed]",
      "text/plain": [
       "<matplotlib.figure.Figure at 0x10cd217b8>"
      ]
     },
     "metadata": {},
     "output_type": "display_data"
    }
   ],
   "source": [
    "from sklearn.metrics.pairwise import rbf_kernel\n",
    "\n",
    "line = np.linspace(-3, 3, 100)[:, np.newaxis]\n",
    "kernel_value = rbf_kernel(line, [[0]], gamma=1)\n",
    "plt.plot(line, kernel_value);"
   ]
  },
  {
   "cell_type": "markdown",
   "metadata": {},
   "source": [
    "The rbf kernel has an inverse bandwidth-parameter gamma, where large gamma mean a very localized influence for each data point, and\n",
    "small values mean a very global influence.\n",
    "Let's see these two parameters in action:"
   ]
  },
  {
   "cell_type": "code",
   "execution_count": 4,
   "metadata": {
    "collapsed": false
   },
   "outputs": [
    {
     "data": {
      "image/png": "[encoded data removed]",
      "text/plain": [
       "<matplotlib.figure.Figure at 0x1030037f0>"
      ]
     },
     "metadata": {},
     "output_type": "display_data"
    }
   ],
   "source": [
    "from figures import plot_svm_interactive\n",
    "plot_svm_interactive()"
   ]
  },
  {
   "cell_type": "markdown",
   "metadata": {},
   "source": [
    "## Exercise: tune a SVM on the digits dataset"
   ]
  },
  {
   "cell_type": "code",
   "execution_count": 5,
   "metadata": {
    "collapsed": false
   },
   "outputs": [
    {
     "name": "stdout",
     "output_type": "stream",
     "text": [
      "best parameters: {'C': 100, 'gamma': 0.01}\n",
      "best score: 0.775055679287\n",
      "test score: 0.828888888889\n"
     ]
    }
   ],
   "source": [
    "from sklearn.datasets import load_digits\n",
    "from sklearn.model_selection import train_test_split, GridSearchCV\n",
    "from sklearn.svm import SVC\n",
    "\n",
    "digits = load_digits()\n",
    "X_digits, y_digits = digits.data, digits.target\n",
    "\n",
    "# split the dataset, apply grid-search\n",
    "X_train, X_test, y_train, y_test = train_test_split(X_digits, y_digits)\n",
    "\n",
    "grid = GridSearchCV(SVC(), param_grid={'C': [100, 10, 1, .01, 0.001, 0.0001], 'gamma': [0.01, 0.1, 1, 10, 100]}, cv=5)\n",
    "grid.fit(X_train, y_train)\n",
    "\n",
    "print('best parameters:', grid.best_params_)\n",
    "print('best score:', grid.best_score_)\n",
    "print('test score:', grid.score(X_test, y_test))"
   ]
  },
  {
   "cell_type": "code",
   "execution_count": 6,
   "metadata": {
    "collapsed": false
   },
   "outputs": [
    {
     "name": "stdout",
     "output_type": "stream",
     "text": [
      "Fitting 5 folds for each of 25 candidates, totalling 125 fits\n",
      "[CV] C=0.001, gamma=0.01 .............................................\n",
      "[CV] .............. C=0.001, gamma=0.01, score=0.105839, total=   0.2s\n",
      "[CV] C=0.001, gamma=0.01 .............................................\n"
     ]
    },
    {
     "name": "stderr",
     "output_type": "stream",
     "text": [
      "[Parallel(n_jobs=1)]: Done   1 out of   1 | elapsed:    0.4s remaining:    0.0s\n"
     ]
    },
    {
     "name": "stdout",
     "output_type": "stream",
     "text": [
      "[CV] .............. C=0.001, gamma=0.01, score=0.107011, total=   0.3s\n",
      "[CV] C=0.001, gamma=0.01 .............................................\n"
     ]
    },
    {
     "name": "stderr",
     "output_type": "stream",
     "text": [
      "[Parallel(n_jobs=1)]: Done   2 out of   2 | elapsed:    0.8s remaining:    0.0s\n"
     ]
    },
    {
     "name": "stdout",
     "output_type": "stream",
     "text": [
      "[CV] .............. C=0.001, gamma=0.01, score=0.107807, total=   0.3s\n",
      "[CV] C=0.001, gamma=0.01 .............................................\n",
      "[CV] .............. C=0.001, gamma=0.01, score=0.104869, total=   0.3s\n",
      "[CV] C=0.001, gamma=0.01 .............................................\n",
      "[CV] .............. C=0.001, gamma=0.01, score=0.105263, total=   0.3s\n",
      "[CV] C=0.001, gamma=0.1 ..............................................\n",
      "[CV] ............... C=0.001, gamma=0.1, score=0.105839, total=   0.3s\n",
      "[CV] C=0.001, gamma=0.1 ..............................................\n",
      "[CV] ............... C=0.001, gamma=0.1, score=0.107011, total=   0.3s\n",
      "[CV] C=0.001, gamma=0.1 ..............................................\n",
      "[CV] ............... C=0.001, gamma=0.1, score=0.107807, total=   0.3s\n",
      "[CV] C=0.001, gamma=0.1 ..............................................\n",
      "[CV] ............... C=0.001, gamma=0.1, score=0.104869, total=   0.3s\n",
      "[CV] C=0.001, gamma=0.1 ..............................................\n",
      "[CV] ............... C=0.001, gamma=0.1, score=0.105263, total=   0.3s\n",
      "[CV] C=0.001, gamma=1 ................................................\n",
      "[CV] ................. C=0.001, gamma=1, score=0.105839, total=   0.2s\n",
      "[CV] C=0.001, gamma=1 ................................................\n",
      "[CV] ................. C=0.001, gamma=1, score=0.107011, total=   0.2s\n",
      "[CV] C=0.001, gamma=1 ................................................\n",
      "[CV] ................. C=0.001, gamma=1, score=0.107807, total=   0.3s\n",
      "[CV] C=0.001, gamma=1 ................................................\n",
      "[CV] ................. C=0.001, gamma=1, score=0.104869, total=   0.2s\n",
      "[CV] C=0.001, gamma=1 ................................................\n",
      "[CV] ................. C=0.001, gamma=1, score=0.105263, total=   0.3s\n",
      "[CV] C=0.001, gamma=10 ...............................................\n",
      "[CV] ................ C=0.001, gamma=10, score=0.105839, total=   0.2s\n",
      "[CV] C=0.001, gamma=10 ...............................................\n",
      "[CV] ................ C=0.001, gamma=10, score=0.107011, total=   0.2s\n",
      "[CV] C=0.001, gamma=10 ...............................................\n",
      "[CV] ................ C=0.001, gamma=10, score=0.107807, total=   0.3s\n",
      "[CV] C=0.001, gamma=10 ...............................................\n",
      "[CV] ................ C=0.001, gamma=10, score=0.104869, total=   0.2s\n",
      "[CV] C=0.001, gamma=10 ...............................................\n",
      "[CV] ................ C=0.001, gamma=10, score=0.105263, total=   0.2s\n",
      "[CV] C=0.001, gamma=100 ..............................................\n",
      "[CV] ............... C=0.001, gamma=100, score=0.105839, total=   0.2s\n",
      "[CV] C=0.001, gamma=100 ..............................................\n",
      "[CV] ............... C=0.001, gamma=100, score=0.107011, total=   0.2s\n",
      "[CV] C=0.001, gamma=100 ..............................................\n",
      "[CV] ............... C=0.001, gamma=100, score=0.107807, total=   0.2s\n",
      "[CV] C=0.001, gamma=100 ..............................................\n",
      "[CV] ............... C=0.001, gamma=100, score=0.104869, total=   0.2s\n",
      "[CV] C=0.001, gamma=100 ..............................................\n",
      "[CV] ............... C=0.001, gamma=100, score=0.105263, total=   0.2s\n",
      "[CV] C=0.01, gamma=0.01 ..............................................\n",
      "[CV] ............... C=0.01, gamma=0.01, score=0.105839, total=   0.3s\n",
      "[CV] C=0.01, gamma=0.01 ..............................................\n",
      "[CV] ............... C=0.01, gamma=0.01, score=0.107011, total=   0.2s\n",
      "[CV] C=0.01, gamma=0.01 ..............................................\n",
      "[CV] ............... C=0.01, gamma=0.01, score=0.107807, total=   0.3s\n",
      "[CV] C=0.01, gamma=0.01 ..............................................\n",
      "[CV] ............... C=0.01, gamma=0.01, score=0.104869, total=   0.3s\n",
      "[CV] C=0.01, gamma=0.01 ..............................................\n",
      "[CV] ............... C=0.01, gamma=0.01, score=0.105263, total=   0.3s\n",
      "[CV] C=0.01, gamma=0.1 ...............................................\n",
      "[CV] ................ C=0.01, gamma=0.1, score=0.105839, total=   0.3s\n",
      "[CV] C=0.01, gamma=0.1 ...............................................\n",
      "[CV] ................ C=0.01, gamma=0.1, score=0.107011, total=   0.3s\n",
      "[CV] C=0.01, gamma=0.1 ...............................................\n",
      "[CV] ................ C=0.01, gamma=0.1, score=0.107807, total=   0.3s\n",
      "[CV] C=0.01, gamma=0.1 ...............................................\n",
      "[CV] ................ C=0.01, gamma=0.1, score=0.104869, total=   0.3s\n",
      "[CV] C=0.01, gamma=0.1 ...............................................\n",
      "[CV] ................ C=0.01, gamma=0.1, score=0.105263, total=   0.3s\n",
      "[CV] C=0.01, gamma=1 .................................................\n",
      "[CV] .................. C=0.01, gamma=1, score=0.105839, total=   0.2s\n",
      "[CV] C=0.01, gamma=1 .................................................\n",
      "[CV] .................. C=0.01, gamma=1, score=0.107011, total=   0.3s\n",
      "[CV] C=0.01, gamma=1 .................................................\n",
      "[CV] .................. C=0.01, gamma=1, score=0.107807, total=   0.2s\n",
      "[CV] C=0.01, gamma=1 .................................................\n",
      "[CV] .................. C=0.01, gamma=1, score=0.104869, total=   0.2s\n",
      "[CV] C=0.01, gamma=1 .................................................\n",
      "[CV] .................. C=0.01, gamma=1, score=0.105263, total=   0.3s\n",
      "[CV] C=0.01, gamma=10 ................................................\n",
      "[CV] ................. C=0.01, gamma=10, score=0.105839, total=   0.2s\n",
      "[CV] C=0.01, gamma=10 ................................................\n",
      "[CV] ................. C=0.01, gamma=10, score=0.107011, total=   0.2s\n",
      "[CV] C=0.01, gamma=10 ................................................\n",
      "[CV] ................. C=0.01, gamma=10, score=0.107807, total=   0.2s\n",
      "[CV] C=0.01, gamma=10 ................................................\n",
      "[CV] ................. C=0.01, gamma=10, score=0.104869, total=   0.2s\n",
      "[CV] C=0.01, gamma=10 ................................................\n",
      "[CV] ................. C=0.01, gamma=10, score=0.105263, total=   0.2s\n",
      "[CV] C=0.01, gamma=100 ...............................................\n",
      "[CV] ................ C=0.01, gamma=100, score=0.105839, total=   0.2s\n",
      "[CV] C=0.01, gamma=100 ...............................................\n",
      "[CV] ................ C=0.01, gamma=100, score=0.107011, total=   0.2s\n",
      "[CV] C=0.01, gamma=100 ...............................................\n",
      "[CV] ................ C=0.01, gamma=100, score=0.107807, total=   0.2s\n",
      "[CV] C=0.01, gamma=100 ...............................................\n",
      "[CV] ................ C=0.01, gamma=100, score=0.104869, total=   0.2s\n",
      "[CV] C=0.01, gamma=100 ...............................................\n",
      "[CV] ................ C=0.01, gamma=100, score=0.105263, total=   0.2s\n",
      "[CV] C=0.1, gamma=0.01 ...............................................\n",
      "[CV] ................ C=0.1, gamma=0.01, score=0.105839, total=   0.3s\n",
      "[CV] C=0.1, gamma=0.01 ...............................................\n",
      "[CV] ................ C=0.1, gamma=0.01, score=0.107011, total=   0.3s\n",
      "[CV] C=0.1, gamma=0.01 ...............................................\n",
      "[CV] ................ C=0.1, gamma=0.01, score=0.107807, total=   0.3s\n",
      "[CV] C=0.1, gamma=0.01 ...............................................\n",
      "[CV] ................ C=0.1, gamma=0.01, score=0.104869, total=   0.3s\n",
      "[CV] C=0.1, gamma=0.01 ...............................................\n",
      "[CV] ................ C=0.1, gamma=0.01, score=0.105263, total=   0.3s\n",
      "[CV] C=0.1, gamma=0.1 ................................................\n",
      "[CV] ................. C=0.1, gamma=0.1, score=0.105839, total=   0.3s\n",
      "[CV] C=0.1, gamma=0.1 ................................................\n",
      "[CV] ................. C=0.1, gamma=0.1, score=0.107011, total=   0.3s\n",
      "[CV] C=0.1, gamma=0.1 ................................................\n",
      "[CV] ................. C=0.1, gamma=0.1, score=0.107807, total=   0.3s\n",
      "[CV] C=0.1, gamma=0.1 ................................................\n",
      "[CV] ................. C=0.1, gamma=0.1, score=0.104869, total=   0.3s\n",
      "[CV] C=0.1, gamma=0.1 ................................................\n",
      "[CV] ................. C=0.1, gamma=0.1, score=0.105263, total=   0.3s\n",
      "[CV] C=0.1, gamma=1 ..................................................\n",
      "[CV] ................... C=0.1, gamma=1, score=0.105839, total=   0.2s\n",
      "[CV] C=0.1, gamma=1 ..................................................\n",
      "[CV] ................... C=0.1, gamma=1, score=0.107011, total=   0.2s\n",
      "[CV] C=0.1, gamma=1 ..................................................\n",
      "[CV] ................... C=0.1, gamma=1, score=0.107807, total=   0.2s\n",
      "[CV] C=0.1, gamma=1 ..................................................\n",
      "[CV] ................... C=0.1, gamma=1, score=0.104869, total=   0.3s\n",
      "[CV] C=0.1, gamma=1 ..................................................\n",
      "[CV] ................... C=0.1, gamma=1, score=0.105263, total=   0.3s\n",
      "[CV] C=0.1, gamma=10 .................................................\n",
      "[CV] .................. C=0.1, gamma=10, score=0.105839, total=   0.2s\n",
      "[CV] C=0.1, gamma=10 .................................................\n",
      "[CV] .................. C=0.1, gamma=10, score=0.107011, total=   0.3s\n",
      "[CV] C=0.1, gamma=10 .................................................\n",
      "[CV] .................. C=0.1, gamma=10, score=0.107807, total=   0.2s\n",
      "[CV] C=0.1, gamma=10 .................................................\n",
      "[CV] .................. C=0.1, gamma=10, score=0.104869, total=   0.2s\n",
      "[CV] C=0.1, gamma=10 .................................................\n",
      "[CV] .................. C=0.1, gamma=10, score=0.105263, total=   0.2s\n",
      "[CV] C=0.1, gamma=100 ................................................\n",
      "[CV] ................. C=0.1, gamma=100, score=0.105839, total=   0.2s\n",
      "[CV] C=0.1, gamma=100 ................................................\n",
      "[CV] ................. C=0.1, gamma=100, score=0.107011, total=   0.3s\n",
      "[CV] C=0.1, gamma=100 ................................................\n",
      "[CV] ................. C=0.1, gamma=100, score=0.107807, total=   0.2s\n",
      "[CV] C=0.1, gamma=100 ................................................\n",
      "[CV] ................. C=0.1, gamma=100, score=0.104869, total=   0.2s\n",
      "[CV] C=0.1, gamma=100 ................................................\n",
      "[CV] ................. C=0.1, gamma=100, score=0.105263, total=   0.2s\n",
      "[CV] C=1, gamma=0.01 .................................................\n",
      "[CV] .................. C=1, gamma=0.01, score=0.726277, total=   0.3s\n",
      "[CV] C=1, gamma=0.01 .................................................\n",
      "[CV] .................. C=1, gamma=0.01, score=0.745387, total=   0.3s\n",
      "[CV] C=1, gamma=0.01 .................................................\n",
      "[CV] .................. C=1, gamma=0.01, score=0.713755, total=   0.3s\n",
      "[CV] C=1, gamma=0.01 .................................................\n",
      "[CV] .................. C=1, gamma=0.01, score=0.737828, total=   0.3s\n",
      "[CV] C=1, gamma=0.01 .................................................\n",
      "[CV] .................. C=1, gamma=0.01, score=0.744361, total=   0.3s\n",
      "[CV] C=1, gamma=0.1 ..................................................\n",
      "[CV] ................... C=1, gamma=0.1, score=0.105839, total=   0.3s\n",
      "[CV] C=1, gamma=0.1 ..................................................\n",
      "[CV] ................... C=1, gamma=0.1, score=0.110701, total=   0.4s\n",
      "[CV] C=1, gamma=0.1 ..................................................\n",
      "[CV] ................... C=1, gamma=0.1, score=0.107807, total=   0.3s\n",
      "[CV] C=1, gamma=0.1 ..................................................\n",
      "[CV] ................... C=1, gamma=0.1, score=0.104869, total=   0.3s\n",
      "[CV] C=1, gamma=0.1 ..................................................\n",
      "[CV] ................... C=1, gamma=0.1, score=0.109023, total=   0.3s\n",
      "[CV] C=1, gamma=1 ....................................................\n",
      "[CV] ..................... C=1, gamma=1, score=0.105839, total=   0.3s\n",
      "[CV] C=1, gamma=1 ....................................................\n",
      "[CV] ..................... C=1, gamma=1, score=0.107011, total=   0.2s\n",
      "[CV] C=1, gamma=1 ....................................................\n",
      "[CV] ..................... C=1, gamma=1, score=0.107807, total=   0.2s\n",
      "[CV] C=1, gamma=1 ....................................................\n",
      "[CV] ..................... C=1, gamma=1, score=0.104869, total=   0.3s\n",
      "[CV] C=1, gamma=1 ....................................................\n",
      "[CV] ..................... C=1, gamma=1, score=0.105263, total=   0.3s\n",
      "[CV] C=1, gamma=10 ...................................................\n",
      "[CV] .................... C=1, gamma=10, score=0.105839, total=   0.2s\n",
      "[CV] C=1, gamma=10 ...................................................\n",
      "[CV] .................... C=1, gamma=10, score=0.107011, total=   0.2s\n",
      "[CV] C=1, gamma=10 ...................................................\n",
      "[CV] .................... C=1, gamma=10, score=0.107807, total=   0.2s\n",
      "[CV] C=1, gamma=10 ...................................................\n",
      "[CV] .................... C=1, gamma=10, score=0.104869, total=   0.2s\n",
      "[CV] C=1, gamma=10 ...................................................\n",
      "[CV] .................... C=1, gamma=10, score=0.105263, total=   0.2s\n",
      "[CV] C=1, gamma=100 ..................................................\n",
      "[CV] ................... C=1, gamma=100, score=0.105839, total=   0.2s\n",
      "[CV] C=1, gamma=100 ..................................................\n",
      "[CV] ................... C=1, gamma=100, score=0.107011, total=   0.3s\n",
      "[CV] C=1, gamma=100 ..................................................\n",
      "[CV] ................... C=1, gamma=100, score=0.107807, total=   0.2s\n",
      "[CV] C=1, gamma=100 ..................................................\n",
      "[CV] ................... C=1, gamma=100, score=0.104869, total=   0.2s\n",
      "[CV] C=1, gamma=100 ..................................................\n",
      "[CV] ................... C=1, gamma=100, score=0.105263, total=   0.3s\n",
      "[CV] C=10, gamma=0.01 ................................................\n",
      "[CV] ................. C=10, gamma=0.01, score=0.748175, total=   0.3s\n",
      "[CV] C=10, gamma=0.01 ................................................\n",
      "[CV] ................. C=10, gamma=0.01, score=0.767528, total=   0.3s\n",
      "[CV] C=10, gamma=0.01 ................................................\n",
      "[CV] ................. C=10, gamma=0.01, score=0.736059, total=   0.3s\n",
      "[CV] C=10, gamma=0.01 ................................................\n",
      "[CV] ................. C=10, gamma=0.01, score=0.767790, total=   0.3s\n",
      "[CV] C=10, gamma=0.01 ................................................\n",
      "[CV] ................. C=10, gamma=0.01, score=0.770677, total=   0.3s\n",
      "[CV] C=10, gamma=0.1 .................................................\n",
      "[CV] .................. C=10, gamma=0.1, score=0.105839, total=   0.7s\n",
      "[CV] C=10, gamma=0.1 .................................................\n",
      "[CV] .................. C=10, gamma=0.1, score=0.110701, total=   0.8s\n",
      "[CV] C=10, gamma=0.1 .................................................\n",
      "[CV] .................. C=10, gamma=0.1, score=0.107807, total=   0.8s\n",
      "[CV] C=10, gamma=0.1 .................................................\n",
      "[CV] .................. C=10, gamma=0.1, score=0.104869, total=   0.9s\n",
      "[CV] C=10, gamma=0.1 .................................................\n",
      "[CV] .................. C=10, gamma=0.1, score=0.109023, total=   0.7s\n",
      "[CV] C=10, gamma=1 ...................................................\n",
      "[CV] .................... C=10, gamma=1, score=0.105839, total=   0.6s\n",
      "[CV] C=10, gamma=1 ...................................................\n",
      "[CV] .................... C=10, gamma=1, score=0.107011, total=   0.6s\n",
      "[CV] C=10, gamma=1 ...................................................\n",
      "[CV] .................... C=10, gamma=1, score=0.107807, total=   0.6s\n",
      "[CV] C=10, gamma=1 ...................................................\n",
      "[CV] .................... C=10, gamma=1, score=0.104869, total=   0.6s\n",
      "[CV] C=10, gamma=1 ...................................................\n",
      "[CV] .................... C=10, gamma=1, score=0.105263, total=   0.5s\n",
      "[CV] C=10, gamma=10 ..................................................\n",
      "[CV] ................... C=10, gamma=10, score=0.105839, total=   0.4s\n",
      "[CV] C=10, gamma=10 ..................................................\n",
      "[CV] ................... C=10, gamma=10, score=0.107011, total=   0.3s\n",
      "[CV] C=10, gamma=10 ..................................................\n",
      "[CV] ................... C=10, gamma=10, score=0.107807, total=   0.3s\n",
      "[CV] C=10, gamma=10 ..................................................\n",
      "[CV] ................... C=10, gamma=10, score=0.104869, total=   0.3s\n",
      "[CV] C=10, gamma=10 ..................................................\n",
      "[CV] ................... C=10, gamma=10, score=0.105263, total=   0.2s\n",
      "[CV] C=10, gamma=100 .................................................\n",
      "[CV] .................. C=10, gamma=100, score=0.105839, total=   0.2s\n",
      "[CV] C=10, gamma=100 .................................................\n",
      "[CV] .................. C=10, gamma=100, score=0.107011, total=   0.2s\n",
      "[CV] C=10, gamma=100 .................................................\n",
      "[CV] .................. C=10, gamma=100, score=0.107807, total=   0.3s\n",
      "[CV] C=10, gamma=100 .................................................\n",
      "[CV] .................. C=10, gamma=100, score=0.104869, total=   0.3s\n",
      "[CV] C=10, gamma=100 .................................................\n",
      "[CV] .................. C=10, gamma=100, score=0.105263, total=   0.2s\n"
     ]
    },
    {
     "name": "stderr",
     "output_type": "stream",
     "text": [
      "[Parallel(n_jobs=1)]: Done 125 out of 125 | elapsed:   53.9s finished\n"
     ]
    },
    {
     "name": "stdout",
     "output_type": "stream",
     "text": [
      "Best score for SVC: 0.7555555555555555\n",
      "Best parameters for SVC: {'C': 10, 'gamma': 0.01}\n"
     ]
    }
   ],
   "source": [
    "# %load solutions/18_svc_grid.py\n",
    "from sklearn.datasets import load_digits\n",
    "from sklearn.model_selection import train_test_split, GridSearchCV\n",
    "from sklearn.svm import SVC\n",
    "\n",
    "digits = load_digits()\n",
    "X_digits, y_digits = digits.data, digits.target\n",
    "X_digits_train, X_digits_test, y_digits_train, y_digits_test = train_test_split(X_digits, y_digits, random_state=1)\n",
    "\n",
    "param_grid = {'C': [0.001, 0.01, 0.1, 1, 10],\n",
    "              'gamma': [0.01, 0.1, 1, 10, 100]}\n",
    "\n",
    "grid = GridSearchCV(SVC(), param_grid=param_grid, cv=5, verbose=3)\n",
    "grid.fit(X_digits_train, y_digits_train)\n",
    "print('Best score for SVC: {}'.format(grid.score(X_digits_test, y_digits_test)))\n",
    "print('Best parameters for SVC: {}'.format(grid.best_params_))\n"
   ]
  }
 ],
 "metadata": {
  "anaconda-cloud": {},
  "kernelspec": {
   "display_name": "TFG",
   "language": "python",
   "name": "tfg"
  },
  "language_info": {
   "codemirror_mode": {
    "name": "ipython",
    "version": 3
   },
   "file_extension": ".py",
   "mimetype": "text/x-python",
   "name": "python",
   "nbconvert_exporter": "python",
   "pygments_lexer": "ipython3",
   "version": "3.6.1"
  }
 },
 "nbformat": 4,
 "nbformat_minor": 0
}
